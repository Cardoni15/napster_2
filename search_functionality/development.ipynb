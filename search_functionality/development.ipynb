{
 "cells": [
  {
   "cell_type": "code",
   "execution_count": 11,
   "metadata": {},
   "outputs": [],
   "source": [
    "import pandas as pd\n",
    "from sklearn.feature_extraction.text import TfidfVectorizer\n",
    "from sklearn.decomposition import TruncatedSVD\n",
    "import os"
   ]
  },
  {
   "cell_type": "code",
   "execution_count": 12,
   "metadata": {},
   "outputs": [],
   "source": [
    "#track_df = pd.read_csv()\n",
    "temp_path = os.getcwd()\n",
    "root_path = temp_path.split('/napster_2')[0]\n",
    "repo_path = '/napster_2/lyric_genius_api/practice_data.csv'\n",
    "practice_data_path = root_path + repo_path\n",
    "\n",
    "\n"
   ]
  },
  {
   "cell_type": "code",
   "execution_count": 45,
   "metadata": {},
   "outputs": [
    {
     "name": "stdout",
     "output_type": "stream",
     "text": [
      "['alt-rock' 'latin' 'country' 'classical' 'hip-hop' 'edm' 'heavy-metal']\n"
     ]
    },
    {
     "data": {
      "text/html": [
       "<div>\n",
       "<style scoped>\n",
       "    .dataframe tbody tr th:only-of-type {\n",
       "        vertical-align: middle;\n",
       "    }\n",
       "\n",
       "    .dataframe tbody tr th {\n",
       "        vertical-align: top;\n",
       "    }\n",
       "\n",
       "    .dataframe thead th {\n",
       "        text-align: right;\n",
       "    }\n",
       "</style>\n",
       "<table border=\"1\" class=\"dataframe\">\n",
       "  <thead>\n",
       "    <tr style=\"text-align: right;\">\n",
       "      <th></th>\n",
       "      <th>spotify_id</th>\n",
       "      <th>track_name</th>\n",
       "      <th>artist_name</th>\n",
       "    </tr>\n",
       "  </thead>\n",
       "  <tbody>\n",
       "    <tr>\n",
       "      <th>0</th>\n",
       "      <td>2QjOHCTQ1Jl3zawyYOpxh6</td>\n",
       "      <td>Sweater Weather</td>\n",
       "      <td>The Neighbourhood</td>\n",
       "    </tr>\n",
       "    <tr>\n",
       "      <th>1</th>\n",
       "      <td>2K7xn816oNHJZ0aVqdQsha</td>\n",
       "      <td>Softcore</td>\n",
       "      <td>The Neighbourhood</td>\n",
       "    </tr>\n",
       "    <tr>\n",
       "      <th>2</th>\n",
       "      <td>5E30LdtzQTGqRvNd7l6kG5</td>\n",
       "      <td>Daddy Issues</td>\n",
       "      <td>The Neighbourhood</td>\n",
       "    </tr>\n",
       "    <tr>\n",
       "      <th>3</th>\n",
       "      <td>2iUmqdfGZcHIhS3b9E9EWq</td>\n",
       "      <td>Everybody Talks</td>\n",
       "      <td>Neon Trees</td>\n",
       "    </tr>\n",
       "    <tr>\n",
       "      <th>4</th>\n",
       "      <td>7zwn1eykZtZ5LODrf7c0tS</td>\n",
       "      <td>You Get Me So High</td>\n",
       "      <td>The Neighbourhood</td>\n",
       "    </tr>\n",
       "    <tr>\n",
       "      <th>...</th>\n",
       "      <td>...</td>\n",
       "      <td>...</td>\n",
       "      <td>...</td>\n",
       "    </tr>\n",
       "    <tr>\n",
       "      <th>7045</th>\n",
       "      <td>1XgpK29CGGjZnxPYkiRbh4</td>\n",
       "      <td>Hey DJ</td>\n",
       "      <td>CNCO</td>\n",
       "    </tr>\n",
       "    <tr>\n",
       "      <th>7046</th>\n",
       "      <td>5q2MjTDby29ZOEigCVV28a</td>\n",
       "      <td>In My Hood</td>\n",
       "      <td>South Park Mexican</td>\n",
       "    </tr>\n",
       "    <tr>\n",
       "      <th>7047</th>\n",
       "      <td>0XpMTExp5q4nLZZZ3msDGn</td>\n",
       "      <td>La Funka</td>\n",
       "      <td>Ozuna</td>\n",
       "    </tr>\n",
       "    <tr>\n",
       "      <th>7048</th>\n",
       "      <td>0ulsRBiciReng91DhfVT9D</td>\n",
       "      <td>Bebé</td>\n",
       "      <td>Ozuna</td>\n",
       "    </tr>\n",
       "    <tr>\n",
       "      <th>7049</th>\n",
       "      <td>4zK05ecddIq3vfd08Aqi8y</td>\n",
       "      <td>La Vida Es Así</td>\n",
       "      <td>Ivy Queen</td>\n",
       "    </tr>\n",
       "  </tbody>\n",
       "</table>\n",
       "<p>7050 rows × 3 columns</p>\n",
       "</div>"
      ],
      "text/plain": [
       "                  spotify_id          track_name         artist_name\n",
       "0     2QjOHCTQ1Jl3zawyYOpxh6     Sweater Weather   The Neighbourhood\n",
       "1     2K7xn816oNHJZ0aVqdQsha            Softcore   The Neighbourhood\n",
       "2     5E30LdtzQTGqRvNd7l6kG5        Daddy Issues   The Neighbourhood\n",
       "3     2iUmqdfGZcHIhS3b9E9EWq     Everybody Talks          Neon Trees\n",
       "4     7zwn1eykZtZ5LODrf7c0tS  You Get Me So High   The Neighbourhood\n",
       "...                      ...                 ...                 ...\n",
       "7045  1XgpK29CGGjZnxPYkiRbh4              Hey DJ                CNCO\n",
       "7046  5q2MjTDby29ZOEigCVV28a          In My Hood  South Park Mexican\n",
       "7047  0XpMTExp5q4nLZZZ3msDGn            La Funka               Ozuna\n",
       "7048  0ulsRBiciReng91DhfVT9D                Bebé               Ozuna\n",
       "7049  4zK05ecddIq3vfd08Aqi8y      La Vida Es Así           Ivy Queen\n",
       "\n",
       "[7050 rows x 3 columns]"
      ]
     },
     "execution_count": 45,
     "metadata": {},
     "output_type": "execute_result"
    }
   ],
   "source": [
    "track_df = pd.read_csv(practice_data_path)\n",
    "print(track_df.genre.unique())\n",
    "rel_columns = ['track_id', 'track_name_x', 'artist_name_x']\n",
    "track_df = track_df[rel_columns]\n",
    "track_df.rename(columns={'track_id': 'spotify_id',\n",
    "                        'track_name_x': 'track_name',\n",
    "                        'artist_name_x': 'artist_name'\n",
    "})\n",
    "#track_df.sample(30, random_state=15)\n"
   ]
  },
  {
   "cell_type": "code",
   "execution_count": 4,
   "metadata": {},
   "outputs": [],
   "source": [
    "# steps for Rocchio Feedback Filter\n",
    "# PROCESS 1 convert the raw lyrics into the concept space.\n",
    "# 1. Create a TFIDF vectorizer\n",
    "# 2. Create a document term matrix using TFIDF vec fit_transform using the raw lyrics. [I think there is an option to lemmatize here]\n",
    "# 3. Complete latent semantic indexing using TruncatedSVD(num components = num comncepts, specifiy the random state)\n",
    "# 4. Fit the document term matrix using TruncatedSVD.fit_transform. THESE ARE YOUR VECTORS FOR SIMILARITY SCORING\n",
    "\n",
    "# PROCESS 2 convert the query into a vector\n",
    "# 1. Convert querry into a raw string\n",
    "# 2. Use the TFIDF vectorizer above to transform the querry\n",
    "# 3. Use the LSI object above to convert the querry into the concept space.\n",
    "\n",
    "# PROCESS 3 execute the search\n",
    "# 1. Find the cosine similarity between the querry and all lyrics\n",
    "# 2. Sort the tracks by similarity\n",
    "# 3. Return the top N tracks to the user.\n",
    "\n",
    "# PROCESS 4 Rochhio Feedback Filtering\n",
    "# 1. Group user feeback by love, no answer, dislike\n",
    "# 2. Calculate the mean for each group\n",
    "# 3. Apply alpha, beta, gamma, and phi to:\n",
    "#       Original search, loves, hates, nuetral\n",
    "# 4. Update the lyric search querry vector and return new results!\n",
    "\n"
   ]
  },
  {
   "cell_type": "code",
   "execution_count": 47,
   "metadata": {},
   "outputs": [],
   "source": [
    "# Tuning Parameters\n",
    "# minimum document frequency\n",
    "min_df = 10\n",
    "num_concepts = 100\n",
    "# step 1 import old lyrical data into a dataframe.\n",
    "lyric_df = pd.read_csv(practice_data_path)\n",
    "lyric_df = lyric_df[lyric_df['genre'] != 'latin']\n",
    "lyric_df = lyric_df[['track_name_x', 'artist_name_x', 'track_id','lyric_raw']]\n",
    "lyric_df.rename(columns={\n",
    "    'track_name_x': 'track_name',\n",
    "    'artist_name_x': 'artist_name'\n",
    "}, inplace=True)\n",
    "lyric_df = lyric_df.dropna()\n",
    "# replace new line character\n",
    "lyric_df['lyric_raw'].replace('\\n', ' ',regex=True, inplace=True)\n",
    "# remove embed text from lyric genius API\n",
    "lyric_df['lyric_raw'].replace('[0-9]{1,3}Embed', '', regex=True, inplace=True)\n",
    "# create vectorizer object\n",
    "vecObj = TfidfVectorizer(tokenizer=str.split, min_df=min_df)\n",
    "# fit the TFIDF vectorizer\n",
    "docTermMat = vecObj.fit_transform(lyric_df['lyric_raw'])\n",
    "\n"
   ]
  },
  {
   "cell_type": "code",
   "execution_count": 48,
   "metadata": {},
   "outputs": [],
   "source": [
    "lsiObj = TruncatedSVD(n_components=num_concepts, random_state=42)\n",
    "docVecs = lsiObj.fit_transform(docTermMat)"
   ]
  },
  {
   "cell_type": "code",
   "execution_count": 52,
   "metadata": {},
   "outputs": [],
   "source": [
    "# part 2 convert the query into a vector in the concept space\n",
    "user_query = 'Jealousy, turning saints into the sea Swimming through sick lullabies Choking on your alibis'\n",
    "# vectorize\n",
    "userVec = vecObj.transform([user_query])\n",
    "# convert query vec into the concept space\n",
    "userLsi = lsiObj.transform(userVec)\n"
   ]
  },
  {
   "cell_type": "code",
   "execution_count": 53,
   "metadata": {},
   "outputs": [
    {
     "data": {
      "text/plain": [
       "array([[ 7.11647273e-02, -6.09642547e-03,  6.04691377e-02,\n",
       "        -1.44803986e-03, -3.18537253e-02,  3.90851881e-03,\n",
       "         1.48029911e-03, -1.69040866e-02, -4.14844889e-02,\n",
       "        -3.59045550e-03, -1.83534099e-02,  3.13040211e-02,\n",
       "         4.44765655e-02, -1.43040740e-03, -2.23788814e-02,\n",
       "         4.93484762e-02,  6.49732182e-03, -2.16652048e-02,\n",
       "        -1.75695539e-02,  3.98033689e-02,  5.34023243e-02,\n",
       "         3.41196114e-02, -5.59653883e-03,  2.79872286e-03,\n",
       "        -2.71257728e-02,  2.35466887e-02,  1.96964389e-02,\n",
       "        -1.10194644e-03,  1.08624196e-02, -5.95757807e-03,\n",
       "         7.19548376e-04, -8.06209195e-04,  2.35384462e-02,\n",
       "         3.26576890e-02, -8.88940659e-05,  5.37283415e-03,\n",
       "        -2.23354021e-04,  5.07858378e-03,  5.04188369e-03,\n",
       "        -2.38474616e-02,  1.18862912e-02, -2.08163744e-02,\n",
       "         1.40020875e-02,  2.29551317e-02,  4.86153201e-03,\n",
       "        -2.07103041e-02, -6.93358791e-03, -2.34872681e-02,\n",
       "         7.75909846e-03,  2.45840012e-02, -7.40716399e-04,\n",
       "        -1.09194129e-02,  1.37269827e-02, -8.31138959e-03,\n",
       "         1.22304880e-05,  8.62623279e-03, -5.53542153e-03,\n",
       "         1.67409976e-02,  4.01561626e-02,  1.73007651e-02,\n",
       "         1.49449231e-02, -1.76552833e-02,  1.10984647e-02,\n",
       "         1.51134301e-03, -2.46866563e-03,  1.84101727e-02,\n",
       "        -2.25915896e-02,  5.67146035e-03, -1.08522478e-02,\n",
       "         7.56263859e-03, -1.74545506e-02,  8.43365315e-03,\n",
       "         6.50424037e-04,  3.36893747e-03, -1.21156687e-02,\n",
       "        -1.43502920e-02, -1.69098450e-02,  2.02883306e-02,\n",
       "         5.98730774e-03, -2.58609033e-02,  2.97953905e-03,\n",
       "         1.89031859e-02,  5.14271416e-03,  5.94927136e-03,\n",
       "        -7.87153042e-03,  1.15061494e-03,  4.68736180e-03,\n",
       "        -8.91184382e-03,  2.37003552e-02,  3.98765205e-03,\n",
       "        -5.96594037e-04, -1.74753218e-03, -6.31075477e-03,\n",
       "        -1.16998198e-02, -1.66787217e-02, -1.78266721e-02,\n",
       "        -1.72970206e-02,  5.43999114e-03,  2.48075878e-02,\n",
       "        -2.23530372e-02]])"
      ]
     },
     "execution_count": 53,
     "metadata": {},
     "output_type": "execute_result"
    }
   ],
   "source": []
  }
 ],
 "metadata": {
  "interpreter": {
   "hash": "5edc29c2ed010d6458d71a83433b383a96a8cbd3efe8531bc90c4b8a5b8bcec9"
  },
  "kernelspec": {
   "display_name": "Python 3.8.2 64-bit",
   "language": "python",
   "name": "python3"
  },
  "language_info": {
   "codemirror_mode": {
    "name": "ipython",
    "version": 3
   },
   "file_extension": ".py",
   "mimetype": "text/x-python",
   "name": "python",
   "nbconvert_exporter": "python",
   "pygments_lexer": "ipython3",
   "version": "3.8.2"
  },
  "orig_nbformat": 4
 },
 "nbformat": 4,
 "nbformat_minor": 2
}
